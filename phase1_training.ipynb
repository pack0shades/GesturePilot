{
 "cells": [
  {
   "cell_type": "code",
   "execution_count": 30,
   "metadata": {},
   "outputs": [],
   "source": [
    "import numpy as np\n",
    "import pandas as pd\n",
    "import torch.nn as nn\n",
    "from torch.utils.data import Dataset, DataLoader\n",
    "from sklearn.model_selection import train_test_split\n",
    "from sklearn.preprocessing import StandardScaler\n",
    "from tqdm import tqdm\n",
    "from matplotlib import pyplot as plt\n",
    "from sklearn.preprocessing import LabelEncoder\n",
    "import torch\n",
    "import torch.nn as nn\n",
    "import torch.optim as optim\n",
    "from sklearn.metrics import accuracy_score, precision_recall_fscore_support\n",
    "import joblib"
   ]
  },
  {
   "cell_type": "code",
   "execution_count": 31,
   "metadata": {},
   "outputs": [],
   "source": [
    "# HYPERPARAMETERS\n",
    "\n",
    "random_seed = 42\n",
    "val_size = 0.05\n",
    "batch_size =28\n",
    "numChannels = 1\n",
    "num_epochs = 25\n",
    "learning_rate = 1e-3"
   ]
  },
  {
   "cell_type": "code",
   "execution_count": 32,
   "metadata": {},
   "outputs": [
    {
     "data": {
      "text/html": [
       "<div>\n",
       "<style scoped>\n",
       "    .dataframe tbody tr th:only-of-type {\n",
       "        vertical-align: middle;\n",
       "    }\n",
       "\n",
       "    .dataframe tbody tr th {\n",
       "        vertical-align: top;\n",
       "    }\n",
       "\n",
       "    .dataframe thead th {\n",
       "        text-align: right;\n",
       "    }\n",
       "</style>\n",
       "<table border=\"1\" class=\"dataframe\">\n",
       "  <thead>\n",
       "    <tr style=\"text-align: right;\">\n",
       "      <th></th>\n",
       "      <th>center_x</th>\n",
       "      <th>center_y</th>\n",
       "      <th>Thumb_status</th>\n",
       "      <th>Index_status</th>\n",
       "      <th>Middle_status</th>\n",
       "      <th>Ring_status</th>\n",
       "      <th>Pinky_status</th>\n",
       "      <th>DistanceThumbIndex</th>\n",
       "      <th>DistanceThumbMiddle</th>\n",
       "      <th>DistanceThumbRing</th>\n",
       "      <th>DistanceThumbPinky</th>\n",
       "      <th>DistanceIndexMiddle</th>\n",
       "      <th>DistanceIndexRing</th>\n",
       "      <th>DistanceIndexPinky</th>\n",
       "      <th>DistanceMiddleRing</th>\n",
       "      <th>DistanceMiddlePinky</th>\n",
       "      <th>DistanceRingPinky</th>\n",
       "      <th>Gesture_type</th>\n",
       "    </tr>\n",
       "  </thead>\n",
       "  <tbody>\n",
       "    <tr>\n",
       "      <th>0</th>\n",
       "      <td>354</td>\n",
       "      <td>214</td>\n",
       "      <td>0</td>\n",
       "      <td>0</td>\n",
       "      <td>0</td>\n",
       "      <td>0</td>\n",
       "      <td>0</td>\n",
       "      <td>14.866069</td>\n",
       "      <td>46.097722</td>\n",
       "      <td>54.561891</td>\n",
       "      <td>55.542776</td>\n",
       "      <td>60.415230</td>\n",
       "      <td>68.963759</td>\n",
       "      <td>69.771054</td>\n",
       "      <td>8.602325</td>\n",
       "      <td>9.486833</td>\n",
       "      <td>2.828427</td>\n",
       "      <td>volume</td>\n",
       "    </tr>\n",
       "    <tr>\n",
       "      <th>1</th>\n",
       "      <td>348</td>\n",
       "      <td>215</td>\n",
       "      <td>0</td>\n",
       "      <td>0</td>\n",
       "      <td>0</td>\n",
       "      <td>0</td>\n",
       "      <td>0</td>\n",
       "      <td>10.295630</td>\n",
       "      <td>53.851648</td>\n",
       "      <td>59.135438</td>\n",
       "      <td>64.195015</td>\n",
       "      <td>61.465437</td>\n",
       "      <td>67.119297</td>\n",
       "      <td>72.090221</td>\n",
       "      <td>6.403124</td>\n",
       "      <td>10.816654</td>\n",
       "      <td>5.099020</td>\n",
       "      <td>volume</td>\n",
       "    </tr>\n",
       "    <tr>\n",
       "      <th>2</th>\n",
       "      <td>347</td>\n",
       "      <td>217</td>\n",
       "      <td>0</td>\n",
       "      <td>0</td>\n",
       "      <td>0</td>\n",
       "      <td>0</td>\n",
       "      <td>0</td>\n",
       "      <td>13.000000</td>\n",
       "      <td>56.320511</td>\n",
       "      <td>63.906181</td>\n",
       "      <td>67.357256</td>\n",
       "      <td>65.306967</td>\n",
       "      <td>73.355300</td>\n",
       "      <td>76.485293</td>\n",
       "      <td>8.485281</td>\n",
       "      <td>11.180340</td>\n",
       "      <td>4.123106</td>\n",
       "      <td>volume</td>\n",
       "    </tr>\n",
       "    <tr>\n",
       "      <th>3</th>\n",
       "      <td>346</td>\n",
       "      <td>217</td>\n",
       "      <td>0</td>\n",
       "      <td>0</td>\n",
       "      <td>0</td>\n",
       "      <td>0</td>\n",
       "      <td>0</td>\n",
       "      <td>10.198039</td>\n",
       "      <td>57.974132</td>\n",
       "      <td>65.459911</td>\n",
       "      <td>69.260378</td>\n",
       "      <td>63.158531</td>\n",
       "      <td>71.112587</td>\n",
       "      <td>74.732858</td>\n",
       "      <td>8.485281</td>\n",
       "      <td>11.661904</td>\n",
       "      <td>4.000000</td>\n",
       "      <td>volume</td>\n",
       "    </tr>\n",
       "    <tr>\n",
       "      <th>4</th>\n",
       "      <td>345</td>\n",
       "      <td>218</td>\n",
       "      <td>0</td>\n",
       "      <td>0</td>\n",
       "      <td>0</td>\n",
       "      <td>0</td>\n",
       "      <td>0</td>\n",
       "      <td>11.180340</td>\n",
       "      <td>57.489129</td>\n",
       "      <td>65.145990</td>\n",
       "      <td>68.680419</td>\n",
       "      <td>62.769419</td>\n",
       "      <td>71.112587</td>\n",
       "      <td>74.323617</td>\n",
       "      <td>9.219544</td>\n",
       "      <td>11.661904</td>\n",
       "      <td>4.123106</td>\n",
       "      <td>volume</td>\n",
       "    </tr>\n",
       "    <tr>\n",
       "      <th>...</th>\n",
       "      <td>...</td>\n",
       "      <td>...</td>\n",
       "      <td>...</td>\n",
       "      <td>...</td>\n",
       "      <td>...</td>\n",
       "      <td>...</td>\n",
       "      <td>...</td>\n",
       "      <td>...</td>\n",
       "      <td>...</td>\n",
       "      <td>...</td>\n",
       "      <td>...</td>\n",
       "      <td>...</td>\n",
       "      <td>...</td>\n",
       "      <td>...</td>\n",
       "      <td>...</td>\n",
       "      <td>...</td>\n",
       "      <td>...</td>\n",
       "      <td>...</td>\n",
       "    </tr>\n",
       "    <tr>\n",
       "      <th>974</th>\n",
       "      <td>217</td>\n",
       "      <td>342</td>\n",
       "      <td>1</td>\n",
       "      <td>0</td>\n",
       "      <td>0</td>\n",
       "      <td>0</td>\n",
       "      <td>1</td>\n",
       "      <td>18.357560</td>\n",
       "      <td>14.035669</td>\n",
       "      <td>24.698178</td>\n",
       "      <td>102.727796</td>\n",
       "      <td>17.720045</td>\n",
       "      <td>31.384710</td>\n",
       "      <td>120.216471</td>\n",
       "      <td>13.892444</td>\n",
       "      <td>113.004425</td>\n",
       "      <td>112.378824</td>\n",
       "      <td>previous</td>\n",
       "    </tr>\n",
       "    <tr>\n",
       "      <th>975</th>\n",
       "      <td>189</td>\n",
       "      <td>334</td>\n",
       "      <td>1</td>\n",
       "      <td>0</td>\n",
       "      <td>0</td>\n",
       "      <td>0</td>\n",
       "      <td>1</td>\n",
       "      <td>23.853721</td>\n",
       "      <td>14.866069</td>\n",
       "      <td>28.231188</td>\n",
       "      <td>100.657836</td>\n",
       "      <td>15.033296</td>\n",
       "      <td>33.615473</td>\n",
       "      <td>123.761868</td>\n",
       "      <td>20.000000</td>\n",
       "      <td>114.634201</td>\n",
       "      <td>115.883562</td>\n",
       "      <td>previous</td>\n",
       "    </tr>\n",
       "    <tr>\n",
       "      <th>976</th>\n",
       "      <td>204</td>\n",
       "      <td>309</td>\n",
       "      <td>1</td>\n",
       "      <td>0</td>\n",
       "      <td>0</td>\n",
       "      <td>0</td>\n",
       "      <td>1</td>\n",
       "      <td>28.284271</td>\n",
       "      <td>18.384776</td>\n",
       "      <td>29.546573</td>\n",
       "      <td>96.829747</td>\n",
       "      <td>13.341664</td>\n",
       "      <td>32.756679</td>\n",
       "      <td>124.963995</td>\n",
       "      <td>21.470911</td>\n",
       "      <td>114.621115</td>\n",
       "      <td>113.635382</td>\n",
       "      <td>previous</td>\n",
       "    </tr>\n",
       "    <tr>\n",
       "      <th>977</th>\n",
       "      <td>196</td>\n",
       "      <td>290</td>\n",
       "      <td>1</td>\n",
       "      <td>0</td>\n",
       "      <td>0</td>\n",
       "      <td>0</td>\n",
       "      <td>1</td>\n",
       "      <td>27.202941</td>\n",
       "      <td>17.088007</td>\n",
       "      <td>27.313001</td>\n",
       "      <td>102.200783</td>\n",
       "      <td>16.000000</td>\n",
       "      <td>34.205263</td>\n",
       "      <td>128.425075</td>\n",
       "      <td>19.235384</td>\n",
       "      <td>118.713942</td>\n",
       "      <td>118.105885</td>\n",
       "      <td>previous</td>\n",
       "    </tr>\n",
       "    <tr>\n",
       "      <th>978</th>\n",
       "      <td>178</td>\n",
       "      <td>287</td>\n",
       "      <td>1</td>\n",
       "      <td>0</td>\n",
       "      <td>0</td>\n",
       "      <td>0</td>\n",
       "      <td>1</td>\n",
       "      <td>31.240999</td>\n",
       "      <td>18.357560</td>\n",
       "      <td>28.792360</td>\n",
       "      <td>104.019229</td>\n",
       "      <td>15.524175</td>\n",
       "      <td>34.713110</td>\n",
       "      <td>134.714513</td>\n",
       "      <td>21.954498</td>\n",
       "      <td>122.200655</td>\n",
       "      <td>121.642920</td>\n",
       "      <td>previous</td>\n",
       "    </tr>\n",
       "  </tbody>\n",
       "</table>\n",
       "<p>979 rows × 18 columns</p>\n",
       "</div>"
      ],
      "text/plain": [
       "     center_x  center_y  Thumb_status  Index_status  Middle_status  \\\n",
       "0         354       214             0             0              0   \n",
       "1         348       215             0             0              0   \n",
       "2         347       217             0             0              0   \n",
       "3         346       217             0             0              0   \n",
       "4         345       218             0             0              0   \n",
       "..        ...       ...           ...           ...            ...   \n",
       "974       217       342             1             0              0   \n",
       "975       189       334             1             0              0   \n",
       "976       204       309             1             0              0   \n",
       "977       196       290             1             0              0   \n",
       "978       178       287             1             0              0   \n",
       "\n",
       "     Ring_status  Pinky_status  DistanceThumbIndex  DistanceThumbMiddle  \\\n",
       "0              0             0           14.866069            46.097722   \n",
       "1              0             0           10.295630            53.851648   \n",
       "2              0             0           13.000000            56.320511   \n",
       "3              0             0           10.198039            57.974132   \n",
       "4              0             0           11.180340            57.489129   \n",
       "..           ...           ...                 ...                  ...   \n",
       "974            0             1           18.357560            14.035669   \n",
       "975            0             1           23.853721            14.866069   \n",
       "976            0             1           28.284271            18.384776   \n",
       "977            0             1           27.202941            17.088007   \n",
       "978            0             1           31.240999            18.357560   \n",
       "\n",
       "     DistanceThumbRing  DistanceThumbPinky  DistanceIndexMiddle  \\\n",
       "0            54.561891           55.542776            60.415230   \n",
       "1            59.135438           64.195015            61.465437   \n",
       "2            63.906181           67.357256            65.306967   \n",
       "3            65.459911           69.260378            63.158531   \n",
       "4            65.145990           68.680419            62.769419   \n",
       "..                 ...                 ...                  ...   \n",
       "974          24.698178          102.727796            17.720045   \n",
       "975          28.231188          100.657836            15.033296   \n",
       "976          29.546573           96.829747            13.341664   \n",
       "977          27.313001          102.200783            16.000000   \n",
       "978          28.792360          104.019229            15.524175   \n",
       "\n",
       "     DistanceIndexRing  DistanceIndexPinky  DistanceMiddleRing  \\\n",
       "0            68.963759           69.771054            8.602325   \n",
       "1            67.119297           72.090221            6.403124   \n",
       "2            73.355300           76.485293            8.485281   \n",
       "3            71.112587           74.732858            8.485281   \n",
       "4            71.112587           74.323617            9.219544   \n",
       "..                 ...                 ...                 ...   \n",
       "974          31.384710          120.216471           13.892444   \n",
       "975          33.615473          123.761868           20.000000   \n",
       "976          32.756679          124.963995           21.470911   \n",
       "977          34.205263          128.425075           19.235384   \n",
       "978          34.713110          134.714513           21.954498   \n",
       "\n",
       "     DistanceMiddlePinky  DistanceRingPinky Gesture_type  \n",
       "0               9.486833           2.828427       volume  \n",
       "1              10.816654           5.099020       volume  \n",
       "2              11.180340           4.123106       volume  \n",
       "3              11.661904           4.000000       volume  \n",
       "4              11.661904           4.123106       volume  \n",
       "..                   ...                ...          ...  \n",
       "974           113.004425         112.378824     previous  \n",
       "975           114.634201         115.883562     previous  \n",
       "976           114.621115         113.635382     previous  \n",
       "977           118.713942         118.105885     previous  \n",
       "978           122.200655         121.642920     previous  \n",
       "\n",
       "[979 rows x 18 columns]"
      ]
     },
     "execution_count": 32,
     "metadata": {},
     "output_type": "execute_result"
    }
   ],
   "source": [
    "df_train = pd.read_csv('final_datatset.csv')\n",
    "df_train"
   ]
  },
  {
   "cell_type": "code",
   "execution_count": 33,
   "metadata": {},
   "outputs": [
    {
     "data": {
      "text/plain": [
       "0        volume\n",
       "1        volume\n",
       "2        volume\n",
       "3        volume\n",
       "4        volume\n",
       "         ...   \n",
       "974    previous\n",
       "975    previous\n",
       "976    previous\n",
       "977    previous\n",
       "978    previous\n",
       "Name: Gesture_type, Length: 979, dtype: object"
      ]
     },
     "execution_count": 33,
     "metadata": {},
     "output_type": "execute_result"
    }
   ],
   "source": [
    "features = df_train.drop('Gesture_type',axis = 1)\n",
    "targets = df_train['Gesture_type']\n",
    "targets"
   ]
  },
  {
   "cell_type": "code",
   "execution_count": 34,
   "metadata": {},
   "outputs": [],
   "source": [
    "from torch.utils.data import Dataset, DataLoader\n",
    "class Dataset(Dataset):\n",
    "    def __init__(self, x, y):\n",
    "        self.x = x\n",
    "        self.y = y\n",
    "\n",
    "    def __len__(self):\n",
    "        return len(self.x)\n",
    "    \n",
    "    def __getitem__(self, idx):\n",
    "        return self.x[idx], self.y[idx]"
   ]
  },
  {
   "cell_type": "code",
   "execution_count": null,
   "metadata": {},
   "outputs": [],
   "source": []
  },
  {
   "cell_type": "code",
   "execution_count": 35,
   "metadata": {},
   "outputs": [
    {
     "name": "stdout",
     "output_type": "stream",
     "text": [
      "(979, 17)\n",
      "(979,)\n"
     ]
    }
   ],
   "source": [
    "print(features.shape)\n",
    "print(targets.shape)"
   ]
  },
  {
   "cell_type": "code",
   "execution_count": 36,
   "metadata": {},
   "outputs": [],
   "source": [
    "train_features, val_features, train_targets, val_targets = train_test_split(features, targets, test_size=val_size,random_state=random_seed)                                                                       "
   ]
  },
  {
   "cell_type": "code",
   "execution_count": 37,
   "metadata": {},
   "outputs": [
    {
     "name": "stdout",
     "output_type": "stream",
     "text": [
      "(930, 17)\n",
      "(49, 17)\n"
     ]
    }
   ],
   "source": [
    "print(train_features.shape)\n",
    "print(val_features.shape)"
   ]
  },
  {
   "cell_type": "code",
   "execution_count": 38,
   "metadata": {},
   "outputs": [
    {
     "data": {
      "text/plain": [
       "['phase1_scaler.pkl']"
      ]
     },
     "execution_count": 38,
     "metadata": {},
     "output_type": "execute_result"
    }
   ],
   "source": [
    "scaler = StandardScaler()\n",
    "X_train = scaler.fit_transform(train_features)\n",
    "X_test = scaler.transform(val_features)\n",
    "scaler_filename = 'phase1_scaler.pkl'\n",
    "joblib.dump(scaler,scaler_filename)"
   ]
  },
  {
   "cell_type": "code",
   "execution_count": 39,
   "metadata": {},
   "outputs": [],
   "source": [
    "X_train_tensor = torch.tensor(X_train,dtype=torch.float)\n",
    "X_test_tensor = torch.tensor(X_test,dtype=torch.float)"
   ]
  },
  {
   "cell_type": "code",
   "execution_count": 40,
   "metadata": {},
   "outputs": [],
   "source": [
    "label_encoder = LabelEncoder()\n",
    "y_train_encoded = label_encoder.fit_transform(train_targets)\n",
    "joblib.dump(label_encoder,'label_encoderphase1.pkl')\n",
    "y_train_tensor = torch.LongTensor(y_train_encoded)\n",
    "y_test_encoded= label_encoder.transform(val_targets)\n",
    "y_test_tensor = torch.LongTensor(y_test_encoded)\n"
   ]
  },
  {
   "cell_type": "code",
   "execution_count": 41,
   "metadata": {},
   "outputs": [],
   "source": [
    "from sympy import false\n",
    "\n",
    "\n",
    "train_dataset = Dataset(X_train_tensor, y_train_tensor)\n",
    "test_dataset = Dataset(X_test_tensor, y_test_tensor)\n",
    "\n",
    "train_loader = DataLoader(train_dataset, batch_size=batch_size, shuffle=True)\n",
    "val_loader = DataLoader(test_dataset, batch_size=batch_size, shuffle=False)"
   ]
  },
  {
   "cell_type": "code",
   "execution_count": 42,
   "metadata": {},
   "outputs": [
    {
     "name": "stdout",
     "output_type": "stream",
     "text": [
      "----------------------------------------------------------------\n",
      "        Layer (type)               Output Shape         Param #\n",
      "================================================================\n",
      "            Linear-1                   [-1, 32]             576\n",
      "       BatchNorm1d-2                   [-1, 32]              64\n",
      "           Dropout-3                   [-1, 32]               0\n",
      "            Linear-4                   [-1, 32]           1,056\n",
      "       BatchNorm1d-5                   [-1, 32]              64\n",
      "              ReLU-6                   [-1, 32]               0\n",
      "           Dropout-7                   [-1, 32]               0\n",
      "            Linear-8                    [-1, 7]             231\n",
      "       BatchNorm1d-9                    [-1, 7]              14\n",
      "          Dropout-10                    [-1, 7]               0\n",
      "             ReLU-11                    [-1, 7]               0\n",
      "       LogSoftmax-12                    [-1, 7]               0\n",
      "================================================================\n",
      "Total params: 2,005\n",
      "Trainable params: 2,005\n",
      "Non-trainable params: 0\n",
      "----------------------------------------------------------------\n",
      "Input size (MB): 0.00\n",
      "Forward/backward pass size (MB): 0.00\n",
      "Params size (MB): 0.01\n",
      "Estimated Total Size (MB): 0.01\n",
      "----------------------------------------------------------------\n"
     ]
    }
   ],
   "source": [
    "class classifier(nn.Module):\n",
    "    def __init__(self, in_features,out_features):\n",
    "        super().__init__()\n",
    "        self.relu = nn.ReLU()\n",
    "        #layer 1\n",
    "        self.layer_1 = nn.Linear(in_features, 32)\n",
    "        self.batchnorm1 = nn.BatchNorm1d(32)\n",
    "        self.dropout = nn.Dropout(0.2)\n",
    "\n",
    "        #layer 2\n",
    "        self.layer_2 = nn.Linear(32, 32)\n",
    "        self.batchnorm2 = nn.BatchNorm1d(32)\n",
    "        self.dropout2 = nn.Dropout(0.2)\n",
    "\n",
    "        #layer 3\n",
    "\n",
    "        self.layer_3 = nn.Linear(32, 7)\n",
    "        self.batchnorm3 = nn.BatchNorm1d(7)\n",
    "        self.dropout3 = nn.Dropout(0.2)\n",
    "        \n",
    "        #softmax\n",
    "\n",
    "        self.logsoftmax = nn.LogSoftmax(dim=1)\n",
    "\n",
    "\n",
    "    def forward(self, x):\n",
    "        x = self.layer_1(x)\n",
    "        x = self.batchnorm1(x)\n",
    "        x = self.dropout(x)\n",
    "        x = self.layer_2(x)\n",
    "        x = self.batchnorm2(x)\n",
    "        x = self.relu(x)\n",
    "        x = self.dropout2(x)\n",
    "        x = self.layer_3(x)\n",
    "        x = self.batchnorm3(x)\n",
    "        x = self.dropout3(x)\n",
    "        x = self.relu(x)\n",
    "        output = self.logsoftmax(x)\n",
    "        return output\n",
    "    \n",
    "prediction = classifier(17, 7)\n",
    "optimizer = torch.optim.AdamW(params=prediction.parameters(), lr=learning_rate, weight_decay=0.001)\n",
    "loss_function = nn.NLLLoss()\n",
    "from torchsummary import summary\n",
    "summary(prediction, (17,))"
   ]
  },
  {
   "cell_type": "code",
   "execution_count": 43,
   "metadata": {},
   "outputs": [
    {
     "name": "stderr",
     "output_type": "stream",
     "text": [
      "  4%|▍         | 1/25 [00:00<00:02,  9.92it/s]"
     ]
    },
    {
     "name": "stdout",
     "output_type": "stream",
     "text": [
      "Epoch: 0/25\n",
      "Train Loss: 1.580144, Train Accuracy: 41.827957\n",
      "test Loss: 1.108218, test Accuracy: 75.510204\n",
      "***************************************************************************\n",
      "Epoch: 1/25\n",
      "Train Loss: 1.165368, Train Accuracy: 62.903226\n",
      "test Loss: 0.969909, test Accuracy: 79.591837\n",
      "***************************************************************************\n"
     ]
    },
    {
     "name": "stderr",
     "output_type": "stream",
     "text": [
      " 12%|█▏        | 3/25 [00:00<00:01, 13.42it/s]"
     ]
    },
    {
     "name": "stdout",
     "output_type": "stream",
     "text": [
      "Epoch: 2/25\n",
      "Train Loss: 1.012114, Train Accuracy: 69.569892\n",
      "test Loss: 0.750651, test Accuracy: 100.000000\n",
      "***************************************************************************\n",
      "Epoch: 3/25\n",
      "Train Loss: 0.898659, Train Accuracy: 76.774194\n",
      "test Loss: 0.627668, test Accuracy: 100.000000\n",
      "***************************************************************************\n"
     ]
    },
    {
     "name": "stderr",
     "output_type": "stream",
     "text": [
      " 20%|██        | 5/25 [00:00<00:01, 15.54it/s]"
     ]
    },
    {
     "name": "stdout",
     "output_type": "stream",
     "text": [
      "Epoch: 4/25\n",
      "Train Loss: 0.824743, Train Accuracy: 78.924731\n",
      "test Loss: 0.520375, test Accuracy: 100.000000\n",
      "***************************************************************************\n",
      "Epoch: 5/25\n",
      "Train Loss: 0.799547, Train Accuracy: 78.172043\n",
      "test Loss: 0.480535, test Accuracy: 100.000000\n",
      "***************************************************************************\n"
     ]
    },
    {
     "name": "stderr",
     "output_type": "stream",
     "text": [
      " 28%|██▊       | 7/25 [00:00<00:01, 15.91it/s]"
     ]
    },
    {
     "name": "stdout",
     "output_type": "stream",
     "text": [
      "Epoch: 6/25\n",
      "Train Loss: 0.752471, Train Accuracy: 77.956989\n",
      "test Loss: 0.463052, test Accuracy: 100.000000\n",
      "***************************************************************************\n"
     ]
    },
    {
     "name": "stderr",
     "output_type": "stream",
     "text": [
      " 36%|███▌      | 9/25 [00:00<00:01, 14.10it/s]"
     ]
    },
    {
     "name": "stdout",
     "output_type": "stream",
     "text": [
      "Epoch: 7/25\n",
      "Train Loss: 0.751623, Train Accuracy: 78.709677\n",
      "test Loss: 0.426948, test Accuracy: 100.000000\n",
      "***************************************************************************\n",
      "Epoch: 8/25\n",
      "Train Loss: 0.705207, Train Accuracy: 79.139785\n",
      "test Loss: 0.413475, test Accuracy: 100.000000\n",
      "***************************************************************************\n",
      "Epoch: 9/25\n",
      "Train Loss: 0.710678, Train Accuracy: 79.032258\n",
      "test Loss: 0.388155, test Accuracy: 100.000000\n",
      "***************************************************************************\n"
     ]
    },
    {
     "name": "stderr",
     "output_type": "stream",
     "text": [
      " 44%|████▍     | 11/25 [00:00<00:00, 14.35it/s]"
     ]
    },
    {
     "name": "stdout",
     "output_type": "stream",
     "text": [
      "Epoch: 10/25\n",
      "Train Loss: 0.702936, Train Accuracy: 77.849462\n",
      "test Loss: 0.338243, test Accuracy: 100.000000\n",
      "***************************************************************************\n",
      "Epoch: 11/25\n",
      "Train Loss: 0.762424, Train Accuracy: 75.698925\n",
      "test Loss: 0.339029, test Accuracy: 100.000000\n",
      "***************************************************************************\n",
      "Epoch: 12/25\n",
      "Train Loss: 0.672990, Train Accuracy: 79.462366\n",
      "test Loss: 0.334909, test Accuracy: 100.000000\n",
      "***************************************************************************\n"
     ]
    },
    {
     "name": "stderr",
     "output_type": "stream",
     "text": [
      " 52%|█████▏    | 13/25 [00:00<00:00, 15.20it/s]"
     ]
    },
    {
     "name": "stdout",
     "output_type": "stream",
     "text": [
      "Epoch: 13/25"
     ]
    },
    {
     "name": "stderr",
     "output_type": "stream",
     "text": [
      " 60%|██████    | 15/25 [00:01<00:00, 15.02it/s]"
     ]
    },
    {
     "name": "stdout",
     "output_type": "stream",
     "text": [
      "\n",
      "Train Loss: 0.709871, Train Accuracy: 77.634409\n",
      "test Loss: 0.322574, test Accuracy: 100.000000\n",
      "***************************************************************************\n",
      "Epoch: 14/25\n",
      "Train Loss: 0.658410, Train Accuracy: 80.215054\n",
      "test Loss: 0.292096, test Accuracy: 100.000000\n",
      "***************************************************************************\n",
      "Epoch: 15/25\n",
      "Train Loss: 0.656672, Train Accuracy: 79.247312\n",
      "test Loss: 0.303968, test Accuracy: 100.000000\n",
      "***************************************************************************\n"
     ]
    },
    {
     "name": "stderr",
     "output_type": "stream",
     "text": [
      " 76%|███████▌  | 19/25 [00:01<00:00, 14.45it/s]"
     ]
    },
    {
     "name": "stdout",
     "output_type": "stream",
     "text": [
      "Epoch: 16/25\n",
      "Train Loss: 0.646692, Train Accuracy: 80.107527\n",
      "test Loss: 0.262031, test Accuracy: 100.000000\n",
      "***************************************************************************\n",
      "Epoch: 17/25\n",
      "Train Loss: 0.655675, Train Accuracy: 78.709677\n",
      "test Loss: 0.269043, test Accuracy: 100.000000\n",
      "***************************************************************************\n",
      "Epoch: 18/25\n",
      "Train Loss: 0.648456, Train Accuracy: 78.494624\n",
      "test Loss: 0.251674, test Accuracy: 100.000000\n",
      "***************************************************************************\n",
      "Epoch: 19/25\n",
      "Train Loss: 0.653862, Train Accuracy: 78.279570\n",
      "test Loss: 0.237738, test Accuracy: 100.000000\n",
      "***************************************************************************\n"
     ]
    },
    {
     "name": "stderr",
     "output_type": "stream",
     "text": [
      " 92%|█████████▏| 23/25 [00:01<00:00, 14.06it/s]"
     ]
    },
    {
     "name": "stdout",
     "output_type": "stream",
     "text": [
      "Epoch: 20/25\n",
      "Train Loss: 0.654754, Train Accuracy: 77.849462\n",
      "test Loss: 0.228678, test Accuracy: 100.000000\n",
      "***************************************************************************\n",
      "Epoch: 21/25\n",
      "Train Loss: 0.569739, Train Accuracy: 82.043011\n",
      "test Loss: 0.230341, test Accuracy: 100.000000\n",
      "***************************************************************************\n",
      "Epoch: 22/25\n",
      "Train Loss: 0.580366, Train Accuracy: 81.182796\n",
      "test Loss: 0.224665, test Accuracy: 100.000000\n",
      "***************************************************************************\n"
     ]
    },
    {
     "name": "stderr",
     "output_type": "stream",
     "text": [
      "100%|██████████| 25/25 [00:01<00:00, 13.98it/s]"
     ]
    },
    {
     "name": "stdout",
     "output_type": "stream",
     "text": [
      "Epoch: 23/25\n",
      "Train Loss: 0.626599, Train Accuracy: 77.956989\n",
      "test Loss: 0.201607, test Accuracy: 100.000000\n",
      "***************************************************************************\n",
      "Epoch: 24/25\n",
      "Train Loss: 0.632545, Train Accuracy: 76.344086\n",
      "test Loss: 0.198893, test Accuracy: 100.000000\n",
      "***************************************************************************\n"
     ]
    },
    {
     "name": "stderr",
     "output_type": "stream",
     "text": [
      "\n"
     ]
    }
   ],
   "source": [
    "#train\n",
    "record = {\n",
    "    \"Train Loss\": [],\n",
    "    \"Train Accuracy\": [],\n",
    "    \"test Loss\": [],\n",
    "    \"test Accuracy\": []\n",
    "}\n",
    "\n",
    "from tqdm import tqdm\n",
    "for e in tqdm(range(num_epochs)):\n",
    "    prediction.train()\n",
    "\n",
    "    steps_train = 0\n",
    "    steps_test = 0\n",
    "    tot_train_loss = 0\n",
    "    tot_test_loss = 0\n",
    "    train_correct = 0\n",
    "    test_correct = 0\n",
    "\n",
    "\n",
    "    for (x,y) in train_loader:\n",
    "        #print(x.shape)\n",
    "        pred = prediction(x)\n",
    "        loss = loss_function(pred,y.long())\n",
    "\n",
    "        optimizer.zero_grad()\n",
    "        loss.backward()\n",
    "        optimizer.step()\n",
    "\n",
    "        tot_train_loss += loss\n",
    "        train_correct += (pred.argmax(1) == y).type(torch.float).sum().item()\n",
    "\n",
    "        steps_train += 1\n",
    "\n",
    "    with torch.no_grad():\n",
    "        prediction.eval()\n",
    "\n",
    "        for (x,y) in val_loader:\n",
    "            pred = prediction(x)\n",
    "            tot_test_loss += loss_function(pred,y.long())\n",
    "            test_correct += (pred.argmax(1) == y).type(torch.float).sum().item()\n",
    "            steps_test += 1\n",
    "    \n",
    "\n",
    "    train_loss_per_batch = tot_train_loss/steps_train\n",
    "    test_loss_per_batch = tot_test_loss/steps_test\n",
    "    train_accuracy_in_epoch = 100*train_correct/len(train_loader.dataset)\n",
    "    test_accuracy_in_epoch = 100*test_correct/len(val_loader.dataset)\n",
    "\n",
    "\n",
    "    record[\"Train Loss\"].append(train_loss_per_batch.cpu().detach().numpy())\n",
    "    record[\"Train Accuracy\"].append(train_accuracy_in_epoch)\n",
    "    record[\"test Loss\"].append(test_loss_per_batch.cpu().detach().numpy())\n",
    "    record[\"test Accuracy\"].append(test_accuracy_in_epoch)\n",
    "\n",
    "    print(f\"Epoch: {e}/{num_epochs}\")\n",
    "    print(f\"Train Loss: {train_loss_per_batch:.6f}, Train Accuracy: {train_accuracy_in_epoch:.6f}\")\n",
    "    print(f\"test Loss: {test_loss_per_batch:.6f}, test Accuracy: {test_accuracy_in_epoch:.6f}\")\n",
    "    print(\"***************************************************************************\")\n",
    "    "
   ]
  },
  {
   "cell_type": "code",
   "execution_count": 44,
   "metadata": {},
   "outputs": [
    {
     "data": {
      "text/plain": [
       "<matplotlib.legend.Legend at 0x1eec2f2cc20>"
      ]
     },
     "execution_count": 44,
     "metadata": {},
     "output_type": "execute_result"
    },
    {
     "data": {
      "image/png": "[encoded data removed]",
      "text/plain": [
       "<Figure size 640x480 with 1 Axes>"
      ]
     },
     "metadata": {},
     "output_type": "display_data"
    }
   ],
   "source": [
    "from matplotlib import pyplot as plt\n",
    "plt.plot(record[\"Train Loss\"], label=\"Train\")\n",
    "plt.plot(record[\"test Loss\"], label = \"Val\")\n",
    "plt.legend()"
   ]
  },
  {
   "cell_type": "code",
   "execution_count": 45,
   "metadata": {},
   "outputs": [
    {
     "name": "stdout",
     "output_type": "stream",
     "text": [
      "Model saved to gesture_classifier.pth\n"
     ]
    }
   ],
   "source": [
    "model_path = \"gesture_classifier.pth\"\n",
    "torch.save(prediction.state_dict(), model_path)\n",
    "print(f\"Model saved to {model_path}\")"
   ]
  }
 ],
 "metadata": {
  "kernelspec": {
   "display_name": "Python 3",
   "language": "python",
   "name": "python3"
  },
  "language_info": {
   "codemirror_mode": {
    "name": "ipython",
    "version": 3
   },
   "file_extension": ".py",
   "mimetype": "text/x-python",
   "name": "python",
   "nbconvert_exporter": "python",
   "pygments_lexer": "ipython3",
   "version": "3.12.1"
  }
 },
 "nbformat": 4,
 "nbformat_minor": 2
}
